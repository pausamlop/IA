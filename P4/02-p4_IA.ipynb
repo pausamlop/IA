{
 "cells": [
  {
   "cell_type": "markdown",
   "metadata": {
    "collapsed": true
   },
   "source": [
    "# Práctica 4 de IA"
   ]
  },
  {
   "cell_type": "markdown",
   "metadata": {
    "collapsed": true
   },
   "source": [
    "# 2. Construcción de un clasificador en una base de datos real (1.5 puntos)"
   ]
  },
  {
   "cell_type": "code",
   "execution_count": 8,
   "metadata": {},
   "outputs": [],
   "source": [
    "import pandas as pd\n",
    "import matplotlib.pyplot as plt\n",
    "from sklearn.naive_bayes import GaussianNB\n",
    "from sklearn.neighbors import KNeighborsClassifier\n",
    "from sklearn.tree import DecisionTreeClassifier\n",
    "from sklearn.linear_model import LogisticRegression\n",
    "from sklearn.neural_network import MLPClassifier\n",
    "from sklearn.model_selection import cross_val_score\n",
    "\n",
    "%matplotlib inline"
   ]
  },
  {
   "cell_type": "code",
   "execution_count": 2,
   "metadata": {},
   "outputs": [
    {
     "name": "stdout",
     "output_type": "stream",
     "text": [
      "(768, 9)\n"
     ]
    },
    {
     "data": {
      "text/html": [
       "<div>\n",
       "<style scoped>\n",
       "    .dataframe tbody tr th:only-of-type {\n",
       "        vertical-align: middle;\n",
       "    }\n",
       "\n",
       "    .dataframe tbody tr th {\n",
       "        vertical-align: top;\n",
       "    }\n",
       "\n",
       "    .dataframe thead th {\n",
       "        text-align: right;\n",
       "    }\n",
       "</style>\n",
       "<table border=\"1\" class=\"dataframe\">\n",
       "  <thead>\n",
       "    <tr style=\"text-align: right;\">\n",
       "      <th></th>\n",
       "      <th>numPregnant</th>\n",
       "      <th>glucose</th>\n",
       "      <th>bloodPress</th>\n",
       "      <th>skinThick</th>\n",
       "      <th>insulin</th>\n",
       "      <th>massIndex</th>\n",
       "      <th>pedigree</th>\n",
       "      <th>age</th>\n",
       "      <th>class</th>\n",
       "    </tr>\n",
       "  </thead>\n",
       "  <tbody>\n",
       "    <tr>\n",
       "      <th>0</th>\n",
       "      <td>6</td>\n",
       "      <td>148</td>\n",
       "      <td>72</td>\n",
       "      <td>35</td>\n",
       "      <td>0</td>\n",
       "      <td>33.6</td>\n",
       "      <td>0.627</td>\n",
       "      <td>50</td>\n",
       "      <td>yes</td>\n",
       "    </tr>\n",
       "    <tr>\n",
       "      <th>1</th>\n",
       "      <td>1</td>\n",
       "      <td>85</td>\n",
       "      <td>66</td>\n",
       "      <td>29</td>\n",
       "      <td>0</td>\n",
       "      <td>26.6</td>\n",
       "      <td>0.351</td>\n",
       "      <td>31</td>\n",
       "      <td>no</td>\n",
       "    </tr>\n",
       "    <tr>\n",
       "      <th>2</th>\n",
       "      <td>8</td>\n",
       "      <td>183</td>\n",
       "      <td>64</td>\n",
       "      <td>0</td>\n",
       "      <td>0</td>\n",
       "      <td>23.3</td>\n",
       "      <td>0.672</td>\n",
       "      <td>32</td>\n",
       "      <td>yes</td>\n",
       "    </tr>\n",
       "    <tr>\n",
       "      <th>3</th>\n",
       "      <td>1</td>\n",
       "      <td>89</td>\n",
       "      <td>66</td>\n",
       "      <td>23</td>\n",
       "      <td>94</td>\n",
       "      <td>28.1</td>\n",
       "      <td>0.167</td>\n",
       "      <td>21</td>\n",
       "      <td>no</td>\n",
       "    </tr>\n",
       "    <tr>\n",
       "      <th>4</th>\n",
       "      <td>0</td>\n",
       "      <td>137</td>\n",
       "      <td>40</td>\n",
       "      <td>35</td>\n",
       "      <td>168</td>\n",
       "      <td>43.1</td>\n",
       "      <td>2.288</td>\n",
       "      <td>33</td>\n",
       "      <td>yes</td>\n",
       "    </tr>\n",
       "  </tbody>\n",
       "</table>\n",
       "</div>"
      ],
      "text/plain": [
       "   numPregnant  glucose  bloodPress  skinThick  insulin  massIndex  pedigree  \\\n",
       "0            6      148          72         35        0       33.6     0.627   \n",
       "1            1       85          66         29        0       26.6     0.351   \n",
       "2            8      183          64          0        0       23.3     0.672   \n",
       "3            1       89          66         23       94       28.1     0.167   \n",
       "4            0      137          40         35      168       43.1     2.288   \n",
       "\n",
       "   age class  \n",
       "0   50   yes  \n",
       "1   31    no  \n",
       "2   32   yes  \n",
       "3   21    no  \n",
       "4   33   yes  "
      ]
     },
     "execution_count": 2,
     "metadata": {},
     "output_type": "execute_result"
    }
   ],
   "source": [
    "df = pd.read_csv(\"pima.csv\", header=0, sep=',')\n",
    "print(df.shape)\n",
    "df.head(5)"
   ]
  },
  {
   "cell_type": "markdown",
   "metadata": {},
   "source": [
    "**El objetivo es predecir si una paciente tiene o no diabetes a partir de los valores de otras variables. La variable target es \"class\".**"
   ]
  },
  {
   "cell_type": "markdown",
   "metadata": {},
   "source": [
    "* **Pregnancies:** Number of times pregnant\n",
    "* **Glucose:** Plasma glucose concentration a 2 hours in an oral glucose tolerance test\n",
    "* **BloodPressure:** Diastolic blood pressure (mm Hg)\n",
    "* **SkinThickness:** Triceps skin fold thickness (mm)\n",
    "* **Insulin:** 2-Hour serum insulin (mu U/ml)\n",
    "* **BMI:** Body mass index (weight in kg/(height in m)^2)\n",
    "* **DiabetesPedigreeFunction:** Diabetes pedigree function\n",
    "* **Age:** Age (years)\n",
    "* **Class:** Class variable (\"yes\" / \"no\")"
   ]
  },
  {
   "cell_type": "code",
   "execution_count": 3,
   "metadata": {},
   "outputs": [
    {
     "name": "stdout",
     "output_type": "stream",
     "text": [
      "['numPregnant', 'glucose', 'bloodPress', 'skinThick', 'insulin', 'massIndex', 'pedigree', 'age']\n"
     ]
    }
   ],
   "source": [
    "nombres_atrs = list(df.columns)\n",
    "nombres_atrs.remove('class')\n",
    "print(nombres_atrs)\n",
    "X = df[nombres_atrs].values\n",
    "y = df['class'].values"
   ]
  },
  {
   "cell_type": "markdown",
   "metadata": {},
   "source": [
    "**Estadísticos básicos de cada atributo:**"
   ]
  },
  {
   "cell_type": "code",
   "execution_count": 4,
   "metadata": {},
   "outputs": [
    {
     "data": {
      "text/html": [
       "<div>\n",
       "<style scoped>\n",
       "    .dataframe tbody tr th:only-of-type {\n",
       "        vertical-align: middle;\n",
       "    }\n",
       "\n",
       "    .dataframe tbody tr th {\n",
       "        vertical-align: top;\n",
       "    }\n",
       "\n",
       "    .dataframe thead th {\n",
       "        text-align: right;\n",
       "    }\n",
       "</style>\n",
       "<table border=\"1\" class=\"dataframe\">\n",
       "  <thead>\n",
       "    <tr style=\"text-align: right;\">\n",
       "      <th></th>\n",
       "      <th>numPregnant</th>\n",
       "      <th>glucose</th>\n",
       "      <th>bloodPress</th>\n",
       "      <th>skinThick</th>\n",
       "      <th>insulin</th>\n",
       "      <th>massIndex</th>\n",
       "      <th>pedigree</th>\n",
       "      <th>age</th>\n",
       "    </tr>\n",
       "  </thead>\n",
       "  <tbody>\n",
       "    <tr>\n",
       "      <th>count</th>\n",
       "      <td>768.000000</td>\n",
       "      <td>768.000000</td>\n",
       "      <td>768.000000</td>\n",
       "      <td>768.000000</td>\n",
       "      <td>768.000000</td>\n",
       "      <td>768.000000</td>\n",
       "      <td>768.000000</td>\n",
       "      <td>768.000000</td>\n",
       "    </tr>\n",
       "    <tr>\n",
       "      <th>mean</th>\n",
       "      <td>3.845052</td>\n",
       "      <td>120.894531</td>\n",
       "      <td>69.105469</td>\n",
       "      <td>20.536458</td>\n",
       "      <td>79.799479</td>\n",
       "      <td>31.992578</td>\n",
       "      <td>0.471876</td>\n",
       "      <td>33.240885</td>\n",
       "    </tr>\n",
       "    <tr>\n",
       "      <th>std</th>\n",
       "      <td>3.369578</td>\n",
       "      <td>31.972618</td>\n",
       "      <td>19.355807</td>\n",
       "      <td>15.952218</td>\n",
       "      <td>115.244002</td>\n",
       "      <td>7.884160</td>\n",
       "      <td>0.331329</td>\n",
       "      <td>11.760232</td>\n",
       "    </tr>\n",
       "    <tr>\n",
       "      <th>min</th>\n",
       "      <td>0.000000</td>\n",
       "      <td>0.000000</td>\n",
       "      <td>0.000000</td>\n",
       "      <td>0.000000</td>\n",
       "      <td>0.000000</td>\n",
       "      <td>0.000000</td>\n",
       "      <td>0.078000</td>\n",
       "      <td>21.000000</td>\n",
       "    </tr>\n",
       "    <tr>\n",
       "      <th>25%</th>\n",
       "      <td>1.000000</td>\n",
       "      <td>99.000000</td>\n",
       "      <td>62.000000</td>\n",
       "      <td>0.000000</td>\n",
       "      <td>0.000000</td>\n",
       "      <td>27.300000</td>\n",
       "      <td>0.243750</td>\n",
       "      <td>24.000000</td>\n",
       "    </tr>\n",
       "    <tr>\n",
       "      <th>50%</th>\n",
       "      <td>3.000000</td>\n",
       "      <td>117.000000</td>\n",
       "      <td>72.000000</td>\n",
       "      <td>23.000000</td>\n",
       "      <td>30.500000</td>\n",
       "      <td>32.000000</td>\n",
       "      <td>0.372500</td>\n",
       "      <td>29.000000</td>\n",
       "    </tr>\n",
       "    <tr>\n",
       "      <th>75%</th>\n",
       "      <td>6.000000</td>\n",
       "      <td>140.250000</td>\n",
       "      <td>80.000000</td>\n",
       "      <td>32.000000</td>\n",
       "      <td>127.250000</td>\n",
       "      <td>36.600000</td>\n",
       "      <td>0.626250</td>\n",
       "      <td>41.000000</td>\n",
       "    </tr>\n",
       "    <tr>\n",
       "      <th>max</th>\n",
       "      <td>17.000000</td>\n",
       "      <td>199.000000</td>\n",
       "      <td>122.000000</td>\n",
       "      <td>99.000000</td>\n",
       "      <td>846.000000</td>\n",
       "      <td>67.100000</td>\n",
       "      <td>2.420000</td>\n",
       "      <td>81.000000</td>\n",
       "    </tr>\n",
       "  </tbody>\n",
       "</table>\n",
       "</div>"
      ],
      "text/plain": [
       "       numPregnant     glucose  bloodPress   skinThick     insulin  \\\n",
       "count   768.000000  768.000000  768.000000  768.000000  768.000000   \n",
       "mean      3.845052  120.894531   69.105469   20.536458   79.799479   \n",
       "std       3.369578   31.972618   19.355807   15.952218  115.244002   \n",
       "min       0.000000    0.000000    0.000000    0.000000    0.000000   \n",
       "25%       1.000000   99.000000   62.000000    0.000000    0.000000   \n",
       "50%       3.000000  117.000000   72.000000   23.000000   30.500000   \n",
       "75%       6.000000  140.250000   80.000000   32.000000  127.250000   \n",
       "max      17.000000  199.000000  122.000000   99.000000  846.000000   \n",
       "\n",
       "        massIndex    pedigree         age  \n",
       "count  768.000000  768.000000  768.000000  \n",
       "mean    31.992578    0.471876   33.240885  \n",
       "std      7.884160    0.331329   11.760232  \n",
       "min      0.000000    0.078000   21.000000  \n",
       "25%     27.300000    0.243750   24.000000  \n",
       "50%     32.000000    0.372500   29.000000  \n",
       "75%     36.600000    0.626250   41.000000  \n",
       "max     67.100000    2.420000   81.000000  "
      ]
     },
     "execution_count": 4,
     "metadata": {},
     "output_type": "execute_result"
    }
   ],
   "source": [
    "df.describe()"
   ]
  },
  {
   "cell_type": "markdown",
   "metadata": {},
   "source": [
    "**Histogramas suavizados de cada atributo en cada clase. El color indica la clase (\"yes\"/\"no\"):**"
   ]
  },
  {
   "cell_type": "code",
   "execution_count": 5,
   "metadata": {},
   "outputs": [
    {
     "data": {
      "image/png": "[encoded data removed]",
      "text/plain": [
       "<Figure size 1080x504 with 8 Axes>"
      ]
     },
     "metadata": {
      "needs_background": "light"
     },
     "output_type": "display_data"
    }
   ],
   "source": [
    "plt.figure(figsize=(15,7))\n",
    "for i,n in enumerate(nombres_atrs):\n",
    "    plt.subplot(2,4,i+1)\n",
    "    aux = 'Density' if i%4==0 else ''\n",
    "    df.groupby(\"class\")[n].plot(kind='kde', title='Hist. de '+n)\n",
    "    plt.ylabel(aux);"
   ]
  },
  {
   "cell_type": "markdown",
   "metadata": {},
   "source": [
    "## Entrenamiento de un modelo y chequeo de su calidad usando 5-fold cross validation"
   ]
  },
  {
   "cell_type": "markdown",
   "metadata": {},
   "source": [
    "La siguiente celda entrena un modelo y lo evalúa en varias particiones training-test diferentes de los datos. El resultado es un score medio junto a su desviación estándar. El tipo de modelo (Naïve Bayes / árbol de decisión / knn/ regresión logística / red neuronal) y parámetros empleados deberán ser seleccionados para que dicho resultado sea el mejor posible."
   ]
  },
  {
   "cell_type": "code",
   "execution_count": 42,
   "metadata": {},
   "outputs": [
    {
     "name": "stdout",
     "output_type": "stream",
     "text": [
      "Score global del modelo árbol de decisión: 0.73 +/- 0.01\n"
     ]
    }
   ],
   "source": [
    "clf = DecisionTreeClassifier(max_depth=3)\n",
    "scores = cross_val_score(clf, X, y, cv=5)\n",
    "#print(\"scores: \", scores)\n",
    "print(\"Score global del modelo árbol de decisión: {:.2f} +/- {:.2f}\".format(scores.mean(), scores.std()))"
   ]
  },
  {
   "cell_type": "markdown",
   "metadata": {},
   "source": [
    "## Responde aquí a las siguientes preguntas:"
   ]
  },
  {
   "cell_type": "markdown",
   "metadata": {},
   "source": [
    "* ¿Cuál es el mejor score que consigues con un k-nn y con qué k (valor de n_neighbours)?\n",
    "* ¿Cuál es el mejor score que consigues con un árbol de decisión y con qué profundidad máxima (valor de max_depth)?\n",
    "* ¿Cuál es el mejor score que consigues con una red neuronal y con qué configuración (valor de hidden_layer_sizes)?\n",
    "\n",
    "Nota: para responder a estas preguntas sólo hay que cambiar el tipo de modelo y sus parámetros en la celda anterior."
   ]
  },
  {
   "cell_type": "code",
   "execution_count": 40,
   "metadata": {},
   "outputs": [
    {
     "name": "stdout",
     "output_type": "stream",
     "text": [
      "Score global del modelo K Neighbors: 0.66 +/- 0.05 con 1 vecinos\n",
      "Score global del modelo K Neighbors: 0.69 +/- 0.02 con 2 vecinos\n",
      "Score global del modelo K Neighbors: 0.71 +/- 0.03 con 3 vecinos\n",
      "Score global del modelo K Neighbors: 0.72 +/- 0.01 con 4 vecinos\n",
      "Score global del modelo K Neighbors: 0.72 +/- 0.02 con 5 vecinos\n",
      "Score global del modelo K Neighbors: 0.73 +/- 0.02 con 6 vecinos\n",
      "Score global del modelo K Neighbors: 0.74 +/- 0.02 con 7 vecinos\n",
      "Score global del modelo K Neighbors: 0.75 +/- 0.02 con 8 vecinos\n",
      "Score global del modelo K Neighbors: 0.74 +/- 0.03 con 9 vecinos\n",
      "Score global del modelo K Neighbors: 0.74 +/- 0.03 con 10 vecinos\n",
      "Score global del modelo K Neighbors: 0.75 +/- 0.03 con 11 vecinos\n",
      "Score global del modelo K Neighbors: 0.75 +/- 0.03 con 12 vecinos\n",
      "Score global del modelo K Neighbors: 0.76 +/- 0.04 con 13 vecinos\n",
      "Score global del modelo K Neighbors: 0.76 +/- 0.03 con 14 vecinos\n",
      "Score global del modelo K Neighbors: 0.74 +/- 0.04 con 15 vecinos\n",
      "Score global del modelo K Neighbors: 0.74 +/- 0.03 con 16 vecinos\n",
      "Score global del modelo K Neighbors: 0.75 +/- 0.05 con 17 vecinos\n",
      "Score global del modelo K Neighbors: 0.75 +/- 0.04 con 18 vecinos\n",
      "Score global del modelo K Neighbors: 0.75 +/- 0.05 con 19 vecinos\n",
      "Score global del modelo K Neighbors: 0.75 +/- 0.04 con 20 vecinos\n"
     ]
    }
   ],
   "source": [
    "#Modelo de K Neighbors\n",
    "\n",
    "for i in range (20):\n",
    "    clf3 = KNeighborsClassifier(n_neighbors=i+1)\n",
    "    scores3 = cross_val_score(clf3, X, y, cv=5)\n",
    "    print(\"Score global del modelo K Neighbors: {:.2f} +/- {:.2f} con {:d} vecinos\".format(scores3.mean(), scores3.std(), i+1))"
   ]
  },
  {
   "cell_type": "markdown",
   "metadata": {},
   "source": [
    "Hemos impreso la salida para 20 vecinos y así poder comparar, llegamos a hacer una impresion de hasta 40 pero no se observaban grandes cambio y el mayor score ya se alcanzaba habiendo generado los primeros 20 vecinos.\n",
    "\n",
    "El mayor score es 0.76 que se alcanza tanto con 13 como con los 14 vecinos más cercanos, pero con 14 obtenemos una menor desviación.\n"
   ]
  },
  {
   "cell_type": "code",
   "execution_count": 59,
   "metadata": {},
   "outputs": [
    {
     "name": "stdout",
     "output_type": "stream",
     "text": [
      "Score global del modelo árbol de decisión: 0.72 +/- 0.03 con profundidad 1\n",
      "Score global del modelo árbol de decisión: 0.74 +/- 0.01 con profundidad 2\n",
      "Score global del modelo árbol de decisión: 0.73 +/- 0.01 con profundidad 3\n",
      "Score global del modelo árbol de decisión: 0.73 +/- 0.03 con profundidad 4\n",
      "Score global del modelo árbol de decisión: 0.75 +/- 0.04 con profundidad 5\n",
      "Score global del modelo árbol de decisión: 0.72 +/- 0.04 con profundidad 6\n",
      "Score global del modelo árbol de decisión: 0.74 +/- 0.03 con profundidad 7\n",
      "Score global del modelo árbol de decisión: 0.71 +/- 0.02 con profundidad 8\n"
     ]
    }
   ],
   "source": [
    "#Modelo de arbol de decisión\n",
    "\n",
    "for i in range (8):\n",
    "    clf1 = DecisionTreeClassifier(max_depth=i+1)\n",
    "    scores1 = cross_val_score(clf1, X, y, cv=5)\n",
    "    #print(\"scores: \", scores)\n",
    "    print(\"Score global del modelo árbol de decisión: {:.2f} +/- {:.2f} con profundidad {:d}\".format(scores1.mean(), scores1.std(), i+1))"
   ]
  },
  {
   "cell_type": "markdown",
   "metadata": {},
   "source": [
    "El mejor score obtenido tras probar para profundidades de 1 a 8 ha sido 0.75 a profundidad 5."
   ]
  },
  {
   "cell_type": "code",
   "execution_count": 62,
   "metadata": {},
   "outputs": [
    {
     "name": "stdout",
     "output_type": "stream",
     "text": [
      "Score global del modelo de red nuronal: 0.69 +/- 0.02 con 10 neuronas en la primera capa\n",
      "Score global del modelo de red nuronal: 0.67 +/- 0.03 con 15 neuronas en la primera capa\n",
      "Score global del modelo de red nuronal: 0.68 +/- 0.02 con 20 neuronas en la primera capa\n",
      "Score global del modelo de red nuronal: 0.68 +/- 0.02 con 25 neuronas en la primera capa\n",
      "Score global del modelo de red nuronal: 0.67 +/- 0.03 con 30 neuronas en la primera capa\n",
      "Score global del modelo de red nuronal: 0.68 +/- 0.06 con 35 neuronas en la primera capa\n",
      "Score global del modelo de red nuronal: 0.68 +/- 0.01 con 40 neuronas en la primera capa\n",
      "Score global del modelo de red nuronal: 0.70 +/- 0.02 con 45 neuronas en la primera capa\n",
      "Score global del modelo de red nuronal: 0.68 +/- 0.02 con 50 neuronas en la primera capa\n",
      "Score global del modelo de red nuronal: 0.67 +/- 0.02 con 55 neuronas en la primera capa\n",
      "Score global del modelo de red nuronal: 0.67 +/- 0.04 con 60 neuronas en la primera capa\n",
      "Score global del modelo de red nuronal: 0.68 +/- 0.03 con 65 neuronas en la primera capa\n",
      "Score global del modelo de red nuronal: 0.68 +/- 0.01 con 70 neuronas en la primera capa\n",
      "Score global del modelo de red nuronal: 0.68 +/- 0.04 con 75 neuronas en la primera capa\n",
      "Score global del modelo de red nuronal: 0.66 +/- 0.05 con 80 neuronas en la primera capa\n",
      "Score global del modelo de red nuronal: 0.67 +/- 0.03 con 85 neuronas en la primera capa\n",
      "Score global del modelo de red nuronal: 0.69 +/- 0.04 con 90 neuronas en la primera capa\n",
      "Score global del modelo de red nuronal: 0.68 +/- 0.03 con 95 neuronas en la primera capa\n",
      "Score global del modelo de red nuronal: 0.68 +/- 0.02 con 100 neuronas en la primera capa\n",
      "Score global del modelo de red nuronal: 0.68 +/- 0.03 con 105 neuronas en la primera capa\n",
      "Score global del modelo de red nuronal: 0.68 +/- 0.02 con 110 neuronas en la primera capa\n",
      "Score global del modelo de red nuronal: 0.67 +/- 0.02 con 115 neuronas en la primera capa\n"
     ]
    }
   ],
   "source": [
    "#Modelo de red nuronal\n",
    "for i in range(10, 120, 5):\n",
    "    clf5 = MLPClassifier(hidden_layer_sizes=(i,), max_iter=1000, alpha=0)\n",
    "    scores5 = cross_val_score(clf5, X, y, cv=5)\n",
    "    print(\"Score global del modelo de red nuronal: {:.2f} +/- {:.2f} con {:d} neuronas en la primera capa\".format(scores5.mean(), scores5.std(), i))"
   ]
  },
  {
   "cell_type": "markdown",
   "metadata": {},
   "source": [
    "Para hacer la comparación y ver con que parametros obtenemos los mejores resultados comenzamos en 10 neurons y probamos hasta 120 con un paso de 5. Usamos solo una capa para hacer las puebas, pues como hemos visto en teoría con una sola capa el modelo de red neuronal va a funcionar correctamente para este tipo de ejercicios.\n",
    "\n",
    "Tras ejecutar el bucle varias veces y obtener distintos resultados en cada iteración podemos concluir que los mejores scores se obtienen entorno a las 50 capas donde el mejor score ronda los 0.70."
   ]
  },
  {
   "cell_type": "code",
   "execution_count": null,
   "metadata": {},
   "outputs": [],
   "source": []
  }
 ],
 "metadata": {
  "kernelspec": {
   "display_name": "Python 3",
   "language": "python",
   "name": "python3"
  },
  "language_info": {
   "codemirror_mode": {
    "name": "ipython",
    "version": 3
   },
   "file_extension": ".py",
   "mimetype": "text/x-python",
   "name": "python",
   "nbconvert_exporter": "python",
   "pygments_lexer": "ipython3",
   "version": "3.8.5"
  }
 },
 "nbformat": 4,
 "nbformat_minor": 1
}
