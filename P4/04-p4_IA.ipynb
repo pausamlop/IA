{
 "cells": [
  {
   "cell_type": "markdown",
   "metadata": {},
   "source": [
    "## 4. Predicción de fugas de clientes en una compañía telefónica (7 puntos)"
   ]
  },
  {
   "cell_type": "markdown",
   "metadata": {},
   "source": [
    "Una compañía telefónica está interesada en que desarrollemos un modelo que prediga los **100 clientes actuales** (dataset de explotaación) que tienen más probabilidad de abandonar la compañía. Para ello nos proporcionan una base de datos **fuga_clientes_empresa_telefonica_construccion.csv** con casos etiquetados, que usaremos para construir nuestro modelo de predicción.\n",
    "\n",
    "Los campos de esta base de datos son:\n",
    "\n",
    "* **Customer ID**\n",
    "\n",
    "* **network_age**: antigüedad del cliente en días\n",
    "\n",
    "* **Customer tenure in months:** antigüedad del cliente en meses\n",
    "\n",
    "* **Total Spend in Months 1 and 2:** gasto total del cliente en los meses de referencia 1 y 2\n",
    "\n",
    "* **Total SMS Spend:** gasto total en SMS\n",
    "\n",
    "* **Total Data Spend:** gasto total en datos/internet\n",
    "\n",
    "* **Total Data Consumption:** consumo total de datos (en KB) durante el período de estudio\n",
    "\n",
    "* **Total Unique Calls:** número total de llamadas únicas\n",
    "\n",
    "* **Total Onnet spend:** gasto total en llamadas a otros usuarios de la misma red de telefonía\n",
    "\n",
    "* **Total Offnet spend:** gasto total en llamadas a otros usuarios de redes de telefonía diferentes\n",
    "\n",
    "* **Total Call centre complaint calls:** número de llamadas de queja al call center\n",
    "\n",
    "* **Network type subscription in Month 1:** suscripción de tipo de red en el mes 1. Esto indica la suscripción de red preferida de un cliente, lo que puede indicar su tipo de dispositivo: servicio 2G o 3G\n",
    "\n",
    "* **Network type subscription in Month 2:** igual que el anterior pero en el mes posterior\n",
    "\n",
    "* **Churn Status**: el valor es 1 si el cliente abandona la compañía telefónica, 0 si permanece en ella\n",
    "\n",
    "* **Most Loved Competitor network in Month 1:** qué otro proveedor de la competencia prefiere el cliente en el mes 1. En realidad es un conjunto de columnas, cada una enfocada en un proveedor particular\n",
    "\n",
    "* **Most Loved Competitor network in Month 2:** qué otro proveedor de la competencia prefiere el cliente en el mes 2. En realidad es un conjunto de columnas, cada una enfocada en un proveedor particular\n",
    "\n",
    "La variable a predecir es **Churn Status**: el valor es 1 si el cliente **abandona** la compañía, 0 si no la abandona.\n",
    "\n",
    "La compañía también nos proporciona otra base de datos, **fuga_clientes_empresa_telefonica_explotacion.csv**, con información sobre clientes de los que no se sabe ahora mismo si van a permanecer o no en la compañía. Por tanto en esta segunda base de datos todos los valores de la columna **Churn Status** son missing values (NaN).\n",
    "\n",
    "La compañía nos pide que proporcionemos los IDs de los 100 clientes de la base de datos de explotación que con mayor probabilidad vayan a abandonar la compañía. Para ello proporcionaremos como entregable a la compañía un archivo csv con una sola columna, **Customer ID**, y 100 filas que contengan los IDs de los clientes seleccionados.\n",
    "\n",
    "El fichero **ejemplo_fichero_predicciones.csv** contiene un ejemplo con el formato solicitado para este archivo."
   ]
  },
  {
   "cell_type": "code",
   "execution_count": 177,
   "metadata": {},
   "outputs": [],
   "source": [
    "import pandas as pd\n",
    "import numpy as np"
   ]
  },
  {
   "cell_type": "code",
   "execution_count": 178,
   "metadata": {},
   "outputs": [],
   "source": [
    "datos_construccion = pd.read_csv(\"./fuga_clientes_empresa_telefonica_construccion.csv\")\n",
    "datos_explotacion  = pd.read_csv(\"./fuga_clientes_empresa_telefonica_explotacion.csv\")"
   ]
  },
  {
   "cell_type": "code",
   "execution_count": 179,
   "metadata": {},
   "outputs": [
    {
     "data": {
      "text/plain": [
       "Index(['Customer ID', 'network_age', 'Customer tenure in month',\n",
       "       'Total Spend in Months 1 and 2', 'Total SMS Spend', 'Total Data Spend',\n",
       "       'Total Data Consumption', 'Total Unique Calls', 'Total Onnet spend',\n",
       "       'Total Offnet spend', 'Total Call centre complaint calls',\n",
       "       'Churn Status', 'Most Loved Competitor network in Month 1_0',\n",
       "       'Most Loved Competitor network in Month 1_Mango',\n",
       "       'Most Loved Competitor network in Month 1_PQza',\n",
       "       'Most Loved Competitor network in Month 1_ToCall',\n",
       "       'Most Loved Competitor network in Month 1_Uxaa',\n",
       "       'Most Loved Competitor network in Month 1_Weematel',\n",
       "       'Most Loved Competitor network in Month 1_Zintel',\n",
       "       'Most Loved Competitor network in Month 2_Mango',\n",
       "       'Most Loved Competitor network in Month 2_PQza',\n",
       "       'Most Loved Competitor network in Month 2_ToCall',\n",
       "       'Most Loved Competitor network in Month 2_Uxaa',\n",
       "       'Most Loved Competitor network in Month 2_Weematel',\n",
       "       'Most Loved Competitor network in Month 2_Zintel'],\n",
       "      dtype='object')"
      ]
     },
     "execution_count": 179,
     "metadata": {},
     "output_type": "execute_result"
    }
   ],
   "source": [
    "datos_construccion.columns"
   ]
  },
  {
   "cell_type": "code",
   "execution_count": 180,
   "metadata": {},
   "outputs": [
    {
     "data": {
      "text/plain": [
       "Index(['Customer ID', 'network_age', 'Customer tenure in month',\n",
       "       'Total Spend in Months 1 and 2', 'Total SMS Spend', 'Total Data Spend',\n",
       "       'Total Data Consumption', 'Total Unique Calls', 'Total Onnet spend',\n",
       "       'Total Offnet spend', 'Total Call centre complaint calls',\n",
       "       'Churn Status', 'Most Loved Competitor network in Month 1_0',\n",
       "       'Most Loved Competitor network in Month 1_Mango',\n",
       "       'Most Loved Competitor network in Month 1_PQza',\n",
       "       'Most Loved Competitor network in Month 1_ToCall',\n",
       "       'Most Loved Competitor network in Month 1_Uxaa',\n",
       "       'Most Loved Competitor network in Month 1_Weematel',\n",
       "       'Most Loved Competitor network in Month 1_Zintel',\n",
       "       'Most Loved Competitor network in Month 2_Mango',\n",
       "       'Most Loved Competitor network in Month 2_PQza',\n",
       "       'Most Loved Competitor network in Month 2_ToCall',\n",
       "       'Most Loved Competitor network in Month 2_Uxaa',\n",
       "       'Most Loved Competitor network in Month 2_Weematel',\n",
       "       'Most Loved Competitor network in Month 2_Zintel'],\n",
       "      dtype='object')"
      ]
     },
     "execution_count": 180,
     "metadata": {},
     "output_type": "execute_result"
    }
   ],
   "source": [
    "datos_explotacion.columns"
   ]
  },
  {
   "cell_type": "code",
   "execution_count": 181,
   "metadata": {},
   "outputs": [
    {
     "data": {
      "text/plain": [
       "0"
      ]
     },
     "execution_count": 181,
     "metadata": {},
     "output_type": "execute_result"
    }
   ],
   "source": [
    "# chequeo de que las columnas son exactamente las mismas en los dos ficheros:\n",
    "\n",
    "sum(datos_construccion.columns != datos_explotacion.columns)"
   ]
  },
  {
   "cell_type": "code",
   "execution_count": 182,
   "metadata": {},
   "outputs": [
    {
     "data": {
      "text/plain": [
       "array([0, 0, 0, 0, 0, 0, 0, 1, 1, 1])"
      ]
     },
     "execution_count": 182,
     "metadata": {},
     "output_type": "execute_result"
    }
   ],
   "source": [
    "# la columna a predecir es \"Churn Status\"\n",
    "# si es 1, el cliente se va de la compañía\n",
    "# si es 0, el cliente se queda\n",
    "\n",
    "# Esta columna se sabe en el dataset de construcción (ejemplos de clientes pasados):\n",
    "datos_construccion[\"Churn Status\"].values[:10]"
   ]
  },
  {
   "cell_type": "code",
   "execution_count": 183,
   "metadata": {},
   "outputs": [
    {
     "data": {
      "text/plain": [
       "array([nan, nan, nan, nan, nan, nan, nan, nan, nan, nan])"
      ]
     },
     "execution_count": 183,
     "metadata": {},
     "output_type": "execute_result"
    }
   ],
   "source": [
    "# Sin embargo no se sabe en el dataset de explotación (clientes actuales):\n",
    "datos_explotacion[\"Churn Status\"].values[:10]"
   ]
  },
  {
   "cell_type": "markdown",
   "metadata": {},
   "source": [
    "# Resolución:"
   ]
  },
  {
   "cell_type": "markdown",
   "metadata": {},
   "source": [
    "Comenzamos preprando la matriz de datos para el entrenamiento, la matriz obtenida a partir del fichero es la siguiente:"
   ]
  },
  {
   "cell_type": "code",
   "execution_count": 199,
   "metadata": {},
   "outputs": [
    {
     "data": {
      "text/plain": [
       "array([['ADF0039', 123, 4.1, ..., 0, 0, 0],\n",
       "       ['ADF0041', 1316, 43.87, ..., 0, 0, 0],\n",
       "       ['ADF0051', 2385, 79.5, ..., 0, 0, 0],\n",
       "       ...,\n",
       "       ['ADF1304', 2971, 99.03, ..., 1, 0, 0],\n",
       "       ['ADF1308', 595, 19.83, ..., 1, 0, 0],\n",
       "       ['ADF1313', 1419, 47.3, ..., 1, 0, 0]], dtype=object)"
      ]
     },
     "execution_count": 199,
     "metadata": {},
     "output_type": "execute_result"
    }
   ],
   "source": [
    "matriz=datos_construccion.values\n",
    "matriz"
   ]
  },
  {
   "cell_type": "markdown",
   "metadata": {},
   "source": [
    "Verificamos los tipos de datos que hemos leido:"
   ]
  },
  {
   "cell_type": "code",
   "execution_count": 200,
   "metadata": {},
   "outputs": [
    {
     "name": "stdout",
     "output_type": "stream",
     "text": [
      "Customer ID                                           object\n",
      "network_age                                            int64\n",
      "Customer tenure in month                             float64\n",
      "Total Spend in Months 1 and 2                        float64\n",
      "Total SMS Spend                                      float64\n",
      "Total Data Spend                                     float64\n",
      "Total Data Consumption                               float64\n",
      "Total Unique Calls                                     int64\n",
      "Total Onnet spend                                      int64\n",
      "Total Offnet spend                                     int64\n",
      "Total Call centre complaint calls                      int64\n",
      "Churn Status                                           int64\n",
      "Most Loved Competitor network in Month 1_0             int64\n",
      "Most Loved Competitor network in Month 1_Mango         int64\n",
      "Most Loved Competitor network in Month 1_PQza          int64\n",
      "Most Loved Competitor network in Month 1_ToCall        int64\n",
      "Most Loved Competitor network in Month 1_Uxaa          int64\n",
      "Most Loved Competitor network in Month 1_Weematel      int64\n",
      "Most Loved Competitor network in Month 1_Zintel        int64\n",
      "Most Loved Competitor network in Month 2_Mango         int64\n",
      "Most Loved Competitor network in Month 2_PQza          int64\n",
      "Most Loved Competitor network in Month 2_ToCall        int64\n",
      "Most Loved Competitor network in Month 2_Uxaa          int64\n",
      "Most Loved Competitor network in Month 2_Weematel      int64\n",
      "Most Loved Competitor network in Month 2_Zintel        int64\n",
      "dtype: object\n"
     ]
    }
   ],
   "source": [
    "print(datos_construccion.dtypes)"
   ]
  },
  {
   "cell_type": "markdown",
   "metadata": {},
   "source": [
    "Generamos estadísticas básicas sobre el dataframe:"
   ]
  },
  {
   "cell_type": "code",
   "execution_count": 201,
   "metadata": {},
   "outputs": [
    {
     "data": {
      "text/html": [
       "<div>\n",
       "<style scoped>\n",
       "    .dataframe tbody tr th:only-of-type {\n",
       "        vertical-align: middle;\n",
       "    }\n",
       "\n",
       "    .dataframe tbody tr th {\n",
       "        vertical-align: top;\n",
       "    }\n",
       "\n",
       "    .dataframe thead th {\n",
       "        text-align: right;\n",
       "    }\n",
       "</style>\n",
       "<table border=\"1\" class=\"dataframe\">\n",
       "  <thead>\n",
       "    <tr style=\"text-align: right;\">\n",
       "      <th></th>\n",
       "      <th>network_age</th>\n",
       "      <th>Customer tenure in month</th>\n",
       "      <th>Total Spend in Months 1 and 2</th>\n",
       "      <th>Total SMS Spend</th>\n",
       "      <th>Total Data Spend</th>\n",
       "      <th>Total Data Consumption</th>\n",
       "      <th>Total Unique Calls</th>\n",
       "      <th>Total Onnet spend</th>\n",
       "      <th>Total Offnet spend</th>\n",
       "      <th>Total Call centre complaint calls</th>\n",
       "      <th>...</th>\n",
       "      <th>Most Loved Competitor network in Month 1_ToCall</th>\n",
       "      <th>Most Loved Competitor network in Month 1_Uxaa</th>\n",
       "      <th>Most Loved Competitor network in Month 1_Weematel</th>\n",
       "      <th>Most Loved Competitor network in Month 1_Zintel</th>\n",
       "      <th>Most Loved Competitor network in Month 2_Mango</th>\n",
       "      <th>Most Loved Competitor network in Month 2_PQza</th>\n",
       "      <th>Most Loved Competitor network in Month 2_ToCall</th>\n",
       "      <th>Most Loved Competitor network in Month 2_Uxaa</th>\n",
       "      <th>Most Loved Competitor network in Month 2_Weematel</th>\n",
       "      <th>Most Loved Competitor network in Month 2_Zintel</th>\n",
       "    </tr>\n",
       "  </thead>\n",
       "  <tbody>\n",
       "    <tr>\n",
       "      <th>count</th>\n",
       "      <td>1110.000000</td>\n",
       "      <td>1110.000000</td>\n",
       "      <td>1110.000000</td>\n",
       "      <td>1110.000000</td>\n",
       "      <td>1110.000000</td>\n",
       "      <td>1.110000e+03</td>\n",
       "      <td>1110.000000</td>\n",
       "      <td>1110.00000</td>\n",
       "      <td>1110.000000</td>\n",
       "      <td>1110.000000</td>\n",
       "      <td>...</td>\n",
       "      <td>1110.000000</td>\n",
       "      <td>1110.000000</td>\n",
       "      <td>1110.000000</td>\n",
       "      <td>1110.000000</td>\n",
       "      <td>1110.000000</td>\n",
       "      <td>1110.000000</td>\n",
       "      <td>1110.000000</td>\n",
       "      <td>1110.000000</td>\n",
       "      <td>1110.000000</td>\n",
       "      <td>1110.000000</td>\n",
       "    </tr>\n",
       "    <tr>\n",
       "      <th>mean</th>\n",
       "      <td>1512.038739</td>\n",
       "      <td>50.401378</td>\n",
       "      <td>835.039915</td>\n",
       "      <td>30.687090</td>\n",
       "      <td>67.162910</td>\n",
       "      <td>2.343397e+06</td>\n",
       "      <td>203.043243</td>\n",
       "      <td>6066.10000</td>\n",
       "      <td>16273.468468</td>\n",
       "      <td>1.986486</td>\n",
       "      <td>...</td>\n",
       "      <td>0.145946</td>\n",
       "      <td>0.221622</td>\n",
       "      <td>0.096396</td>\n",
       "      <td>0.109009</td>\n",
       "      <td>0.082883</td>\n",
       "      <td>0.233333</td>\n",
       "      <td>0.047748</td>\n",
       "      <td>0.569369</td>\n",
       "      <td>0.037838</td>\n",
       "      <td>0.028829</td>\n",
       "    </tr>\n",
       "    <tr>\n",
       "      <th>std</th>\n",
       "      <td>1272.024046</td>\n",
       "      <td>42.400681</td>\n",
       "      <td>1317.850917</td>\n",
       "      <td>58.625098</td>\n",
       "      <td>323.714105</td>\n",
       "      <td>7.343873e+06</td>\n",
       "      <td>300.257845</td>\n",
       "      <td>11969.62004</td>\n",
       "      <td>37230.646293</td>\n",
       "      <td>2.497392</td>\n",
       "      <td>...</td>\n",
       "      <td>0.353211</td>\n",
       "      <td>0.415525</td>\n",
       "      <td>0.295267</td>\n",
       "      <td>0.311791</td>\n",
       "      <td>0.275829</td>\n",
       "      <td>0.423143</td>\n",
       "      <td>0.213328</td>\n",
       "      <td>0.495388</td>\n",
       "      <td>0.190890</td>\n",
       "      <td>0.167401</td>\n",
       "    </tr>\n",
       "    <tr>\n",
       "      <th>min</th>\n",
       "      <td>-5.000000</td>\n",
       "      <td>-0.170000</td>\n",
       "      <td>4.910000</td>\n",
       "      <td>0.000000</td>\n",
       "      <td>0.000000</td>\n",
       "      <td>5.860000e-02</td>\n",
       "      <td>1.000000</td>\n",
       "      <td>0.00000</td>\n",
       "      <td>0.000000</td>\n",
       "      <td>1.000000</td>\n",
       "      <td>...</td>\n",
       "      <td>0.000000</td>\n",
       "      <td>0.000000</td>\n",
       "      <td>0.000000</td>\n",
       "      <td>0.000000</td>\n",
       "      <td>0.000000</td>\n",
       "      <td>0.000000</td>\n",
       "      <td>0.000000</td>\n",
       "      <td>0.000000</td>\n",
       "      <td>0.000000</td>\n",
       "      <td>0.000000</td>\n",
       "    </tr>\n",
       "    <tr>\n",
       "      <th>25%</th>\n",
       "      <td>381.250000</td>\n",
       "      <td>12.707500</td>\n",
       "      <td>172.196000</td>\n",
       "      <td>3.492500</td>\n",
       "      <td>1.250000</td>\n",
       "      <td>1.410266e+03</td>\n",
       "      <td>18.000000</td>\n",
       "      <td>36.00000</td>\n",
       "      <td>1111.000000</td>\n",
       "      <td>1.000000</td>\n",
       "      <td>...</td>\n",
       "      <td>0.000000</td>\n",
       "      <td>0.000000</td>\n",
       "      <td>0.000000</td>\n",
       "      <td>0.000000</td>\n",
       "      <td>0.000000</td>\n",
       "      <td>0.000000</td>\n",
       "      <td>0.000000</td>\n",
       "      <td>0.000000</td>\n",
       "      <td>0.000000</td>\n",
       "      <td>0.000000</td>\n",
       "    </tr>\n",
       "    <tr>\n",
       "      <th>50%</th>\n",
       "      <td>1243.500000</td>\n",
       "      <td>41.450000</td>\n",
       "      <td>616.341000</td>\n",
       "      <td>14.000000</td>\n",
       "      <td>11.250000</td>\n",
       "      <td>1.472994e+05</td>\n",
       "      <td>82.000000</td>\n",
       "      <td>1488.00000</td>\n",
       "      <td>4185.000000</td>\n",
       "      <td>1.000000</td>\n",
       "      <td>...</td>\n",
       "      <td>0.000000</td>\n",
       "      <td>0.000000</td>\n",
       "      <td>0.000000</td>\n",
       "      <td>0.000000</td>\n",
       "      <td>0.000000</td>\n",
       "      <td>0.000000</td>\n",
       "      <td>0.000000</td>\n",
       "      <td>1.000000</td>\n",
       "      <td>0.000000</td>\n",
       "      <td>0.000000</td>\n",
       "    </tr>\n",
       "    <tr>\n",
       "      <th>75%</th>\n",
       "      <td>2288.000000</td>\n",
       "      <td>76.267500</td>\n",
       "      <td>1021.458300</td>\n",
       "      <td>31.637500</td>\n",
       "      <td>50.000000</td>\n",
       "      <td>1.304779e+06</td>\n",
       "      <td>251.000000</td>\n",
       "      <td>6678.00000</td>\n",
       "      <td>13327.500000</td>\n",
       "      <td>2.000000</td>\n",
       "      <td>...</td>\n",
       "      <td>0.000000</td>\n",
       "      <td>0.000000</td>\n",
       "      <td>0.000000</td>\n",
       "      <td>0.000000</td>\n",
       "      <td>0.000000</td>\n",
       "      <td>0.000000</td>\n",
       "      <td>0.000000</td>\n",
       "      <td>1.000000</td>\n",
       "      <td>0.000000</td>\n",
       "      <td>0.000000</td>\n",
       "    </tr>\n",
       "    <tr>\n",
       "      <th>max</th>\n",
       "      <td>5451.000000</td>\n",
       "      <td>181.700000</td>\n",
       "      <td>24438.830000</td>\n",
       "      <td>665.000000</td>\n",
       "      <td>8295.000000</td>\n",
       "      <td>9.945640e+07</td>\n",
       "      <td>2184.000000</td>\n",
       "      <td>146344.00000</td>\n",
       "      <td>384648.000000</td>\n",
       "      <td>49.000000</td>\n",
       "      <td>...</td>\n",
       "      <td>1.000000</td>\n",
       "      <td>1.000000</td>\n",
       "      <td>1.000000</td>\n",
       "      <td>1.000000</td>\n",
       "      <td>1.000000</td>\n",
       "      <td>1.000000</td>\n",
       "      <td>1.000000</td>\n",
       "      <td>1.000000</td>\n",
       "      <td>1.000000</td>\n",
       "      <td>1.000000</td>\n",
       "    </tr>\n",
       "  </tbody>\n",
       "</table>\n",
       "<p>8 rows × 24 columns</p>\n",
       "</div>"
      ],
      "text/plain": [
       "       network_age  Customer tenure in month  Total Spend in Months 1 and 2  \\\n",
       "count  1110.000000               1110.000000                    1110.000000   \n",
       "mean   1512.038739                 50.401378                     835.039915   \n",
       "std    1272.024046                 42.400681                    1317.850917   \n",
       "min      -5.000000                 -0.170000                       4.910000   \n",
       "25%     381.250000                 12.707500                     172.196000   \n",
       "50%    1243.500000                 41.450000                     616.341000   \n",
       "75%    2288.000000                 76.267500                    1021.458300   \n",
       "max    5451.000000                181.700000                   24438.830000   \n",
       "\n",
       "       Total SMS Spend  Total Data Spend  Total Data Consumption  \\\n",
       "count      1110.000000       1110.000000            1.110000e+03   \n",
       "mean         30.687090         67.162910            2.343397e+06   \n",
       "std          58.625098        323.714105            7.343873e+06   \n",
       "min           0.000000          0.000000            5.860000e-02   \n",
       "25%           3.492500          1.250000            1.410266e+03   \n",
       "50%          14.000000         11.250000            1.472994e+05   \n",
       "75%          31.637500         50.000000            1.304779e+06   \n",
       "max         665.000000       8295.000000            9.945640e+07   \n",
       "\n",
       "       Total Unique Calls  Total Onnet spend  Total Offnet spend  \\\n",
       "count         1110.000000         1110.00000         1110.000000   \n",
       "mean           203.043243         6066.10000        16273.468468   \n",
       "std            300.257845        11969.62004        37230.646293   \n",
       "min              1.000000            0.00000            0.000000   \n",
       "25%             18.000000           36.00000         1111.000000   \n",
       "50%             82.000000         1488.00000         4185.000000   \n",
       "75%            251.000000         6678.00000        13327.500000   \n",
       "max           2184.000000       146344.00000       384648.000000   \n",
       "\n",
       "       Total Call centre complaint calls  ...  \\\n",
       "count                        1110.000000  ...   \n",
       "mean                            1.986486  ...   \n",
       "std                             2.497392  ...   \n",
       "min                             1.000000  ...   \n",
       "25%                             1.000000  ...   \n",
       "50%                             1.000000  ...   \n",
       "75%                             2.000000  ...   \n",
       "max                            49.000000  ...   \n",
       "\n",
       "       Most Loved Competitor network in Month 1_ToCall  \\\n",
       "count                                      1110.000000   \n",
       "mean                                          0.145946   \n",
       "std                                           0.353211   \n",
       "min                                           0.000000   \n",
       "25%                                           0.000000   \n",
       "50%                                           0.000000   \n",
       "75%                                           0.000000   \n",
       "max                                           1.000000   \n",
       "\n",
       "       Most Loved Competitor network in Month 1_Uxaa  \\\n",
       "count                                    1110.000000   \n",
       "mean                                        0.221622   \n",
       "std                                         0.415525   \n",
       "min                                         0.000000   \n",
       "25%                                         0.000000   \n",
       "50%                                         0.000000   \n",
       "75%                                         0.000000   \n",
       "max                                         1.000000   \n",
       "\n",
       "       Most Loved Competitor network in Month 1_Weematel  \\\n",
       "count                                        1110.000000   \n",
       "mean                                            0.096396   \n",
       "std                                             0.295267   \n",
       "min                                             0.000000   \n",
       "25%                                             0.000000   \n",
       "50%                                             0.000000   \n",
       "75%                                             0.000000   \n",
       "max                                             1.000000   \n",
       "\n",
       "       Most Loved Competitor network in Month 1_Zintel  \\\n",
       "count                                      1110.000000   \n",
       "mean                                          0.109009   \n",
       "std                                           0.311791   \n",
       "min                                           0.000000   \n",
       "25%                                           0.000000   \n",
       "50%                                           0.000000   \n",
       "75%                                           0.000000   \n",
       "max                                           1.000000   \n",
       "\n",
       "       Most Loved Competitor network in Month 2_Mango  \\\n",
       "count                                     1110.000000   \n",
       "mean                                         0.082883   \n",
       "std                                          0.275829   \n",
       "min                                          0.000000   \n",
       "25%                                          0.000000   \n",
       "50%                                          0.000000   \n",
       "75%                                          0.000000   \n",
       "max                                          1.000000   \n",
       "\n",
       "       Most Loved Competitor network in Month 2_PQza  \\\n",
       "count                                    1110.000000   \n",
       "mean                                        0.233333   \n",
       "std                                         0.423143   \n",
       "min                                         0.000000   \n",
       "25%                                         0.000000   \n",
       "50%                                         0.000000   \n",
       "75%                                         0.000000   \n",
       "max                                         1.000000   \n",
       "\n",
       "       Most Loved Competitor network in Month 2_ToCall  \\\n",
       "count                                      1110.000000   \n",
       "mean                                          0.047748   \n",
       "std                                           0.213328   \n",
       "min                                           0.000000   \n",
       "25%                                           0.000000   \n",
       "50%                                           0.000000   \n",
       "75%                                           0.000000   \n",
       "max                                           1.000000   \n",
       "\n",
       "       Most Loved Competitor network in Month 2_Uxaa  \\\n",
       "count                                    1110.000000   \n",
       "mean                                        0.569369   \n",
       "std                                         0.495388   \n",
       "min                                         0.000000   \n",
       "25%                                         0.000000   \n",
       "50%                                         1.000000   \n",
       "75%                                         1.000000   \n",
       "max                                         1.000000   \n",
       "\n",
       "       Most Loved Competitor network in Month 2_Weematel  \\\n",
       "count                                        1110.000000   \n",
       "mean                                            0.037838   \n",
       "std                                             0.190890   \n",
       "min                                             0.000000   \n",
       "25%                                             0.000000   \n",
       "50%                                             0.000000   \n",
       "75%                                             0.000000   \n",
       "max                                             1.000000   \n",
       "\n",
       "       Most Loved Competitor network in Month 2_Zintel  \n",
       "count                                      1110.000000  \n",
       "mean                                          0.028829  \n",
       "std                                           0.167401  \n",
       "min                                           0.000000  \n",
       "25%                                           0.000000  \n",
       "50%                                           0.000000  \n",
       "75%                                           0.000000  \n",
       "max                                           1.000000  \n",
       "\n",
       "[8 rows x 24 columns]"
      ]
     },
     "execution_count": 201,
     "metadata": {},
     "output_type": "execute_result"
    }
   ],
   "source": [
    "datos_construccion.describe()"
   ]
  },
  {
   "cell_type": "markdown",
   "metadata": {},
   "source": [
    "Preparamos los datos para modelar:"
   ]
  },
  {
   "cell_type": "markdown",
   "metadata": {},
   "source": [
    "La columna del customer ID no va a proporcionar ninguna informacion al entrenamiento por lo que la quitamos y también debemos eliminar la variable Churn Status ya que es la variable a predecir."
   ]
  },
  {
   "cell_type": "markdown",
   "metadata": {},
   "source": [
    "El índice de la columna de Customer ID es 0.\n",
    "El índice de la colummna de Churn Status es 11."
   ]
  },
  {
   "cell_type": "code",
   "execution_count": 202,
   "metadata": {},
   "outputs": [
    {
     "name": "stdout",
     "output_type": "stream",
     "text": [
      "[[123 4.1 76.714 ... 0 0 0]\n",
      " [1316 43.87 98.8904 ... 0 0 0]\n",
      " [2385 79.5 372.63 ... 0 0 0]\n",
      " ...\n",
      " [2971 99.03 832.7248 ... 1 0 0]\n",
      " [595 19.83 839.5724 ... 1 0 0]\n",
      " [1419 47.3 843.0604 ... 1 0 0]]\n"
     ]
    }
   ],
   "source": [
    "df= np.delete(matriz, [0, 11], axis=1)\n",
    "print(df)"
   ]
  },
  {
   "cell_type": "markdown",
   "metadata": {},
   "source": [
    "Controlamos posibles fallos en cada columna:"
   ]
  },
  {
   "cell_type": "markdown",
   "metadata": {},
   "source": [
    "1. Tenemos que controlar las filas cuya primera columna, que es antigüedad del cliente en días, es menor que 0. Ya que mediante el describe hemos visto que el valor mínimo era negativo y eso es erroneo. Lo mismo ocurre con la columna de la antigüedad del cliente en meses."
   ]
  },
  {
   "cell_type": "code",
   "execution_count": 203,
   "metadata": {},
   "outputs": [
    {
     "data": {
      "text/plain": [
       "(array([489, 915]),)"
      ]
     },
     "execution_count": 203,
     "metadata": {},
     "output_type": "execute_result"
    }
   ],
   "source": [
    "np.where(df[:, 0]<0)"
   ]
  },
  {
   "cell_type": "code",
   "execution_count": 204,
   "metadata": {},
   "outputs": [
    {
     "data": {
      "text/plain": [
       "(array([489, 915]),)"
      ]
     },
     "execution_count": 204,
     "metadata": {},
     "output_type": "execute_result"
    }
   ],
   "source": [
    "np.where(df[:, 1]<0)"
   ]
  },
  {
   "cell_type": "markdown",
   "metadata": {},
   "source": [
    "Como los datos negativos coinciden y son solo dos, además el conjunto tiene más de 1000 instancias, podemos permitirnos perder alguna fila:"
   ]
  },
  {
   "cell_type": "code",
   "execution_count": 205,
   "metadata": {},
   "outputs": [
    {
     "name": "stdout",
     "output_type": "stream",
     "text": [
      "[[123 4.1 76.714 ... 0 0 0]\n",
      " [1316 43.87 98.8904 ... 0 0 0]\n",
      " [2385 79.5 372.63 ... 0 0 0]\n",
      " ...\n",
      " [2971 99.03 832.7248 ... 1 0 0]\n",
      " [595 19.83 839.5724 ... 1 0 0]\n",
      " [1419 47.3 843.0604 ... 1 0 0]]\n"
     ]
    }
   ],
   "source": [
    "df= np.delete(df, np.where(df[:, 0]<0), axis=0)\n",
    "print(df)"
   ]
  },
  {
   "cell_type": "code",
   "execution_count": 206,
   "metadata": {},
   "outputs": [
    {
     "data": {
      "text/plain": [
       "(array([], dtype=int64),)"
      ]
     },
     "execution_count": 206,
     "metadata": {},
     "output_type": "execute_result"
    }
   ],
   "source": [
    "np.where(df[:, 1]<0)"
   ]
  },
  {
   "cell_type": "markdown",
   "metadata": {},
   "source": [
    "Estudiando los demás valores de la tabla obtenida mediante describe, no parece que haya que hacer ningún ajuste más."
   ]
  },
  {
   "cell_type": "markdown",
   "metadata": {},
   "source": [
    "Ya tendríamos la matriz de entrenamiento lista."
   ]
  },
  {
   "cell_type": "markdown",
   "metadata": {},
   "source": [
    "También tenemos que procesar la matriz del test:"
   ]
  },
  {
   "cell_type": "code",
   "execution_count": 223,
   "metadata": {},
   "outputs": [
    {
     "data": {
      "text/html": [
       "<div>\n",
       "<style scoped>\n",
       "    .dataframe tbody tr th:only-of-type {\n",
       "        vertical-align: middle;\n",
       "    }\n",
       "\n",
       "    .dataframe tbody tr th {\n",
       "        vertical-align: top;\n",
       "    }\n",
       "\n",
       "    .dataframe thead th {\n",
       "        text-align: right;\n",
       "    }\n",
       "</style>\n",
       "<table border=\"1\" class=\"dataframe\">\n",
       "  <thead>\n",
       "    <tr style=\"text-align: right;\">\n",
       "      <th></th>\n",
       "      <th>network_age</th>\n",
       "      <th>Customer tenure in month</th>\n",
       "      <th>Total Spend in Months 1 and 2</th>\n",
       "      <th>Total SMS Spend</th>\n",
       "      <th>Total Data Spend</th>\n",
       "      <th>Total Data Consumption</th>\n",
       "      <th>Total Unique Calls</th>\n",
       "      <th>Total Onnet spend</th>\n",
       "      <th>Total Offnet spend</th>\n",
       "      <th>Total Call centre complaint calls</th>\n",
       "      <th>...</th>\n",
       "      <th>Most Loved Competitor network in Month 1_ToCall</th>\n",
       "      <th>Most Loved Competitor network in Month 1_Uxaa</th>\n",
       "      <th>Most Loved Competitor network in Month 1_Weematel</th>\n",
       "      <th>Most Loved Competitor network in Month 1_Zintel</th>\n",
       "      <th>Most Loved Competitor network in Month 2_Mango</th>\n",
       "      <th>Most Loved Competitor network in Month 2_PQza</th>\n",
       "      <th>Most Loved Competitor network in Month 2_ToCall</th>\n",
       "      <th>Most Loved Competitor network in Month 2_Uxaa</th>\n",
       "      <th>Most Loved Competitor network in Month 2_Weematel</th>\n",
       "      <th>Most Loved Competitor network in Month 2_Zintel</th>\n",
       "    </tr>\n",
       "  </thead>\n",
       "  <tbody>\n",
       "    <tr>\n",
       "      <th>count</th>\n",
       "      <td>289.000000</td>\n",
       "      <td>289.000000</td>\n",
       "      <td>289.000000</td>\n",
       "      <td>289.000000</td>\n",
       "      <td>289.000000</td>\n",
       "      <td>2.890000e+02</td>\n",
       "      <td>289.000000</td>\n",
       "      <td>289.000000</td>\n",
       "      <td>289.000000</td>\n",
       "      <td>289.000000</td>\n",
       "      <td>...</td>\n",
       "      <td>289.000000</td>\n",
       "      <td>289.000000</td>\n",
       "      <td>289.000000</td>\n",
       "      <td>289.000000</td>\n",
       "      <td>289.000000</td>\n",
       "      <td>289.000000</td>\n",
       "      <td>289.000000</td>\n",
       "      <td>289.000000</td>\n",
       "      <td>289.000000</td>\n",
       "      <td>289.000000</td>\n",
       "    </tr>\n",
       "    <tr>\n",
       "      <th>mean</th>\n",
       "      <td>1211.823529</td>\n",
       "      <td>40.393806</td>\n",
       "      <td>693.848493</td>\n",
       "      <td>29.374844</td>\n",
       "      <td>24.911349</td>\n",
       "      <td>1.472105e+06</td>\n",
       "      <td>200.726644</td>\n",
       "      <td>9712.034602</td>\n",
       "      <td>13696.986159</td>\n",
       "      <td>1.678201</td>\n",
       "      <td>...</td>\n",
       "      <td>0.138408</td>\n",
       "      <td>0.269896</td>\n",
       "      <td>0.110727</td>\n",
       "      <td>0.107266</td>\n",
       "      <td>0.031142</td>\n",
       "      <td>0.169550</td>\n",
       "      <td>0.038062</td>\n",
       "      <td>0.681661</td>\n",
       "      <td>0.031142</td>\n",
       "      <td>0.048443</td>\n",
       "    </tr>\n",
       "    <tr>\n",
       "      <th>std</th>\n",
       "      <td>1266.602498</td>\n",
       "      <td>42.220141</td>\n",
       "      <td>952.562211</td>\n",
       "      <td>69.052163</td>\n",
       "      <td>49.853049</td>\n",
       "      <td>4.550351e+06</td>\n",
       "      <td>309.582668</td>\n",
       "      <td>28170.365737</td>\n",
       "      <td>38325.676925</td>\n",
       "      <td>1.621334</td>\n",
       "      <td>...</td>\n",
       "      <td>0.345927</td>\n",
       "      <td>0.444676</td>\n",
       "      <td>0.314338</td>\n",
       "      <td>0.309988</td>\n",
       "      <td>0.174002</td>\n",
       "      <td>0.375888</td>\n",
       "      <td>0.191679</td>\n",
       "      <td>0.466640</td>\n",
       "      <td>0.174002</td>\n",
       "      <td>0.215073</td>\n",
       "    </tr>\n",
       "    <tr>\n",
       "      <th>min</th>\n",
       "      <td>-2.000000</td>\n",
       "      <td>-0.070000</td>\n",
       "      <td>16.152000</td>\n",
       "      <td>0.000000</td>\n",
       "      <td>0.000000</td>\n",
       "      <td>1.172000e-01</td>\n",
       "      <td>1.000000</td>\n",
       "      <td>0.000000</td>\n",
       "      <td>0.000000</td>\n",
       "      <td>1.000000</td>\n",
       "      <td>...</td>\n",
       "      <td>0.000000</td>\n",
       "      <td>0.000000</td>\n",
       "      <td>0.000000</td>\n",
       "      <td>0.000000</td>\n",
       "      <td>0.000000</td>\n",
       "      <td>0.000000</td>\n",
       "      <td>0.000000</td>\n",
       "      <td>0.000000</td>\n",
       "      <td>0.000000</td>\n",
       "      <td>0.000000</td>\n",
       "    </tr>\n",
       "    <tr>\n",
       "      <th>25%</th>\n",
       "      <td>136.000000</td>\n",
       "      <td>4.530000</td>\n",
       "      <td>132.018000</td>\n",
       "      <td>1.800000</td>\n",
       "      <td>1.250000</td>\n",
       "      <td>1.212265e+03</td>\n",
       "      <td>17.000000</td>\n",
       "      <td>186.000000</td>\n",
       "      <td>1224.000000</td>\n",
       "      <td>1.000000</td>\n",
       "      <td>...</td>\n",
       "      <td>0.000000</td>\n",
       "      <td>0.000000</td>\n",
       "      <td>0.000000</td>\n",
       "      <td>0.000000</td>\n",
       "      <td>0.000000</td>\n",
       "      <td>0.000000</td>\n",
       "      <td>0.000000</td>\n",
       "      <td>0.000000</td>\n",
       "      <td>0.000000</td>\n",
       "      <td>0.000000</td>\n",
       "    </tr>\n",
       "    <tr>\n",
       "      <th>50%</th>\n",
       "      <td>765.000000</td>\n",
       "      <td>25.500000</td>\n",
       "      <td>517.790000</td>\n",
       "      <td>12.250000</td>\n",
       "      <td>7.500000</td>\n",
       "      <td>8.830388e+04</td>\n",
       "      <td>77.000000</td>\n",
       "      <td>2464.000000</td>\n",
       "      <td>4005.000000</td>\n",
       "      <td>1.000000</td>\n",
       "      <td>...</td>\n",
       "      <td>0.000000</td>\n",
       "      <td>0.000000</td>\n",
       "      <td>0.000000</td>\n",
       "      <td>0.000000</td>\n",
       "      <td>0.000000</td>\n",
       "      <td>0.000000</td>\n",
       "      <td>0.000000</td>\n",
       "      <td>1.000000</td>\n",
       "      <td>0.000000</td>\n",
       "      <td>0.000000</td>\n",
       "    </tr>\n",
       "    <tr>\n",
       "      <th>75%</th>\n",
       "      <td>1877.000000</td>\n",
       "      <td>62.570000</td>\n",
       "      <td>1004.496000</td>\n",
       "      <td>28.640000</td>\n",
       "      <td>27.500000</td>\n",
       "      <td>6.968163e+05</td>\n",
       "      <td>273.000000</td>\n",
       "      <td>8316.000000</td>\n",
       "      <td>12965.000000</td>\n",
       "      <td>2.000000</td>\n",
       "      <td>...</td>\n",
       "      <td>0.000000</td>\n",
       "      <td>1.000000</td>\n",
       "      <td>0.000000</td>\n",
       "      <td>0.000000</td>\n",
       "      <td>0.000000</td>\n",
       "      <td>0.000000</td>\n",
       "      <td>0.000000</td>\n",
       "      <td>1.000000</td>\n",
       "      <td>0.000000</td>\n",
       "      <td>0.000000</td>\n",
       "    </tr>\n",
       "    <tr>\n",
       "      <th>max</th>\n",
       "      <td>5363.000000</td>\n",
       "      <td>178.770000</td>\n",
       "      <td>10042.353200</td>\n",
       "      <td>873.980000</td>\n",
       "      <td>493.750000</td>\n",
       "      <td>3.714204e+07</td>\n",
       "      <td>2596.000000</td>\n",
       "      <td>381174.000000</td>\n",
       "      <td>431440.000000</td>\n",
       "      <td>16.000000</td>\n",
       "      <td>...</td>\n",
       "      <td>1.000000</td>\n",
       "      <td>1.000000</td>\n",
       "      <td>1.000000</td>\n",
       "      <td>1.000000</td>\n",
       "      <td>1.000000</td>\n",
       "      <td>1.000000</td>\n",
       "      <td>1.000000</td>\n",
       "      <td>1.000000</td>\n",
       "      <td>1.000000</td>\n",
       "      <td>1.000000</td>\n",
       "    </tr>\n",
       "  </tbody>\n",
       "</table>\n",
       "<p>8 rows × 24 columns</p>\n",
       "</div>"
      ],
      "text/plain": [
       "       network_age  Customer tenure in month  Total Spend in Months 1 and 2  \\\n",
       "count   289.000000                289.000000                     289.000000   \n",
       "mean   1211.823529                 40.393806                     693.848493   \n",
       "std    1266.602498                 42.220141                     952.562211   \n",
       "min      -2.000000                 -0.070000                      16.152000   \n",
       "25%     136.000000                  4.530000                     132.018000   \n",
       "50%     765.000000                 25.500000                     517.790000   \n",
       "75%    1877.000000                 62.570000                    1004.496000   \n",
       "max    5363.000000                178.770000                   10042.353200   \n",
       "\n",
       "       Total SMS Spend  Total Data Spend  Total Data Consumption  \\\n",
       "count       289.000000        289.000000            2.890000e+02   \n",
       "mean         29.374844         24.911349            1.472105e+06   \n",
       "std          69.052163         49.853049            4.550351e+06   \n",
       "min           0.000000          0.000000            1.172000e-01   \n",
       "25%           1.800000          1.250000            1.212265e+03   \n",
       "50%          12.250000          7.500000            8.830388e+04   \n",
       "75%          28.640000         27.500000            6.968163e+05   \n",
       "max         873.980000        493.750000            3.714204e+07   \n",
       "\n",
       "       Total Unique Calls  Total Onnet spend  Total Offnet spend  \\\n",
       "count          289.000000         289.000000          289.000000   \n",
       "mean           200.726644        9712.034602        13696.986159   \n",
       "std            309.582668       28170.365737        38325.676925   \n",
       "min              1.000000           0.000000            0.000000   \n",
       "25%             17.000000         186.000000         1224.000000   \n",
       "50%             77.000000        2464.000000         4005.000000   \n",
       "75%            273.000000        8316.000000        12965.000000   \n",
       "max           2596.000000      381174.000000       431440.000000   \n",
       "\n",
       "       Total Call centre complaint calls  ...  \\\n",
       "count                         289.000000  ...   \n",
       "mean                            1.678201  ...   \n",
       "std                             1.621334  ...   \n",
       "min                             1.000000  ...   \n",
       "25%                             1.000000  ...   \n",
       "50%                             1.000000  ...   \n",
       "75%                             2.000000  ...   \n",
       "max                            16.000000  ...   \n",
       "\n",
       "       Most Loved Competitor network in Month 1_ToCall  \\\n",
       "count                                       289.000000   \n",
       "mean                                          0.138408   \n",
       "std                                           0.345927   \n",
       "min                                           0.000000   \n",
       "25%                                           0.000000   \n",
       "50%                                           0.000000   \n",
       "75%                                           0.000000   \n",
       "max                                           1.000000   \n",
       "\n",
       "       Most Loved Competitor network in Month 1_Uxaa  \\\n",
       "count                                     289.000000   \n",
       "mean                                        0.269896   \n",
       "std                                         0.444676   \n",
       "min                                         0.000000   \n",
       "25%                                         0.000000   \n",
       "50%                                         0.000000   \n",
       "75%                                         1.000000   \n",
       "max                                         1.000000   \n",
       "\n",
       "       Most Loved Competitor network in Month 1_Weematel  \\\n",
       "count                                         289.000000   \n",
       "mean                                            0.110727   \n",
       "std                                             0.314338   \n",
       "min                                             0.000000   \n",
       "25%                                             0.000000   \n",
       "50%                                             0.000000   \n",
       "75%                                             0.000000   \n",
       "max                                             1.000000   \n",
       "\n",
       "       Most Loved Competitor network in Month 1_Zintel  \\\n",
       "count                                       289.000000   \n",
       "mean                                          0.107266   \n",
       "std                                           0.309988   \n",
       "min                                           0.000000   \n",
       "25%                                           0.000000   \n",
       "50%                                           0.000000   \n",
       "75%                                           0.000000   \n",
       "max                                           1.000000   \n",
       "\n",
       "       Most Loved Competitor network in Month 2_Mango  \\\n",
       "count                                      289.000000   \n",
       "mean                                         0.031142   \n",
       "std                                          0.174002   \n",
       "min                                          0.000000   \n",
       "25%                                          0.000000   \n",
       "50%                                          0.000000   \n",
       "75%                                          0.000000   \n",
       "max                                          1.000000   \n",
       "\n",
       "       Most Loved Competitor network in Month 2_PQza  \\\n",
       "count                                     289.000000   \n",
       "mean                                        0.169550   \n",
       "std                                         0.375888   \n",
       "min                                         0.000000   \n",
       "25%                                         0.000000   \n",
       "50%                                         0.000000   \n",
       "75%                                         0.000000   \n",
       "max                                         1.000000   \n",
       "\n",
       "       Most Loved Competitor network in Month 2_ToCall  \\\n",
       "count                                       289.000000   \n",
       "mean                                          0.038062   \n",
       "std                                           0.191679   \n",
       "min                                           0.000000   \n",
       "25%                                           0.000000   \n",
       "50%                                           0.000000   \n",
       "75%                                           0.000000   \n",
       "max                                           1.000000   \n",
       "\n",
       "       Most Loved Competitor network in Month 2_Uxaa  \\\n",
       "count                                     289.000000   \n",
       "mean                                        0.681661   \n",
       "std                                         0.466640   \n",
       "min                                         0.000000   \n",
       "25%                                         0.000000   \n",
       "50%                                         1.000000   \n",
       "75%                                         1.000000   \n",
       "max                                         1.000000   \n",
       "\n",
       "       Most Loved Competitor network in Month 2_Weematel  \\\n",
       "count                                         289.000000   \n",
       "mean                                            0.031142   \n",
       "std                                             0.174002   \n",
       "min                                             0.000000   \n",
       "25%                                             0.000000   \n",
       "50%                                             0.000000   \n",
       "75%                                             0.000000   \n",
       "max                                             1.000000   \n",
       "\n",
       "       Most Loved Competitor network in Month 2_Zintel  \n",
       "count                                       289.000000  \n",
       "mean                                          0.048443  \n",
       "std                                           0.215073  \n",
       "min                                           0.000000  \n",
       "25%                                           0.000000  \n",
       "50%                                           0.000000  \n",
       "75%                                           0.000000  \n",
       "max                                           1.000000  \n",
       "\n",
       "[8 rows x 24 columns]"
      ]
     },
     "execution_count": 223,
     "metadata": {},
     "output_type": "execute_result"
    }
   ],
   "source": [
    "datos_explotacion.describe()"
   ]
  },
  {
   "cell_type": "markdown",
   "metadata": {},
   "source": [
    "Vuelve a haber valores mínimos negativos en las dos primeras columnas, los identificamos y eliminamos."
   ]
  },
  {
   "cell_type": "code",
   "execution_count": 224,
   "metadata": {},
   "outputs": [
    {
     "name": "stdout",
     "output_type": "stream",
     "text": [
      "[['ADF1330' 888 29.6 ... 1 0 0]\n",
      " ['ADF1331' 120 4.0 ... 1 0 0]\n",
      " ['ADF1345' 3809 126.97 ... 1 0 0]\n",
      " ...\n",
      " ['ADF1967' 203 6.77 ... 0 0 1]\n",
      " ['ADF1971' 109 3.63 ... 0 0 1]\n",
      " ['ADF1982' 904 30.13 ... 0 0 1]]\n"
     ]
    }
   ],
   "source": [
    "matriz_test=datos_explotacion.values\n",
    "print(matriz_test)"
   ]
  },
  {
   "cell_type": "code",
   "execution_count": 225,
   "metadata": {},
   "outputs": [
    {
     "data": {
      "text/plain": [
       "(array([52]),)"
      ]
     },
     "execution_count": 225,
     "metadata": {},
     "output_type": "execute_result"
    }
   ],
   "source": [
    "np.where(matriz_test[:, 1]<0)"
   ]
  },
  {
   "cell_type": "code",
   "execution_count": 226,
   "metadata": {},
   "outputs": [
    {
     "data": {
      "text/plain": [
       "(array([52]),)"
      ]
     },
     "execution_count": 226,
     "metadata": {},
     "output_type": "execute_result"
    }
   ],
   "source": [
    "np.where(matriz_test[:, 2]<0)"
   ]
  },
  {
   "cell_type": "markdown",
   "metadata": {},
   "source": [
    "El valor negativo de ambas columnas coincide con el índice de una misma fila:"
   ]
  },
  {
   "cell_type": "code",
   "execution_count": 227,
   "metadata": {},
   "outputs": [
    {
     "name": "stdout",
     "output_type": "stream",
     "text": [
      "[['ADF1330' 888 29.6 ... 1 0 0]\n",
      " ['ADF1331' 120 4.0 ... 1 0 0]\n",
      " ['ADF1345' 3809 126.97 ... 1 0 0]\n",
      " ...\n",
      " ['ADF1967' 203 6.77 ... 0 0 1]\n",
      " ['ADF1971' 109 3.63 ... 0 0 1]\n",
      " ['ADF1982' 904 30.13 ... 0 0 1]]\n"
     ]
    }
   ],
   "source": [
    "matriz_test= np.delete(matriz_test, np.where(matriz_test[:, 1]<0), axis=0)\n",
    "print(matriz_test)"
   ]
  },
  {
   "cell_type": "code",
   "execution_count": 222,
   "metadata": {},
   "outputs": [
    {
     "data": {
      "text/plain": [
       "(array([], dtype=int64),)"
      ]
     },
     "execution_count": 222,
     "metadata": {},
     "output_type": "execute_result"
    }
   ],
   "source": [
    "np.where(matriz_test[:, 2]<0)"
   ]
  },
  {
   "cell_type": "markdown",
   "metadata": {},
   "source": [
    "La matriz de test ya estaría lista."
   ]
  },
  {
   "cell_type": "code",
   "execution_count": null,
   "metadata": {},
   "outputs": [],
   "source": []
  }
 ],
 "metadata": {
  "kernelspec": {
   "display_name": "Python 3",
   "language": "python",
   "name": "python3"
  },
  "language_info": {
   "codemirror_mode": {
    "name": "ipython",
    "version": 3
   },
   "file_extension": ".py",
   "mimetype": "text/x-python",
   "name": "python",
   "nbconvert_exporter": "python",
   "pygments_lexer": "ipython3",
   "version": "3.8.5"
  }
 },
 "nbformat": 4,
 "nbformat_minor": 2
}
