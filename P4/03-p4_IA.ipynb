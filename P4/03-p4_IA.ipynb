{
 "cells": [
  {
   "cell_type": "markdown",
   "metadata": {
    "colab_type": "text",
    "id": "5QZv0KWtnzyA"
   },
   "source": [
    "## 3. Clasificación de caracteres manuscritos (OCR) (OPCIONAL)"
   ]
  },
  {
   "cell_type": "markdown",
   "metadata": {},
   "source": [
    "En este apartado entrenaremos una red neuronal para que aprenda a clasificar automáticamente imágenes de dígitos escritos a mano. Este es un ejemplo de OCR (Optical Character Recognition) que utilizan empresas como Correos para interpretar automáticamente los datos de remitente escritos a mano en el sobre, previamente capturados con una cámara."
   ]
  },
  {
   "cell_type": "code",
   "execution_count": null,
   "metadata": {
    "colab": {},
    "colab_type": "code",
    "id": "3WoEHYtK5lZO"
   },
   "outputs": [],
   "source": [
    "import matplotlib.pyplot as plt\n",
    "from sklearn.datasets import fetch_openml\n",
    "import numpy as np\n",
    "\n",
    "%matplotlib inline"
   ]
  },
  {
   "cell_type": "markdown",
   "metadata": {
    "colab_type": "text",
    "id": "QwqVNXHb5lZa"
   },
   "source": [
    "## 3.1. Carga de datos"
   ]
  },
  {
   "cell_type": "markdown",
   "metadata": {},
   "source": [
    "Usaremos la base de datos **MNIST**, muy usada en Machine Learning para poner a prueba algoritmos. A continuación la cargamos:"
   ]
  },
  {
   "cell_type": "code",
   "execution_count": null,
   "metadata": {
    "colab": {},
    "colab_type": "code",
    "id": "MgAKDP665lZd"
   },
   "outputs": [],
   "source": [
    "X, y = fetch_openml('mnist_784', version=1, return_X_y=True)\n",
    "X = X / 255. # reescalado de datos para que los datos de píxeles vayan de 0 a 1\n",
    "y = y.astype(int) # las etiquetas leídas son de tipo str: las convertimos a int"
   ]
  },
  {
   "cell_type": "code",
   "execution_count": null,
   "metadata": {
    "colab": {
     "base_uri": "https://localhost:8080/",
     "height": 105
    },
    "colab_type": "code",
    "executionInfo": {
     "elapsed": 20348,
     "status": "ok",
     "timestamp": 1573029625657,
     "user": {
      "displayName": "Manuel Sánchez-Montañés",
      "photoUrl": "",
      "userId": "17112108692206476645"
     },
     "user_tz": -60
    },
    "id": "1esl-fKD5lZp",
    "outputId": "e0255334-ee29-44b0-e66e-95b05723d387"
   },
   "outputs": [],
   "source": [
    "print(type(X))\n",
    "print(X.shape)\n",
    "print(type(y))\n",
    "print(y.shape)\n",
    "\n",
    "print(y[:10])"
   ]
  },
  {
   "cell_type": "code",
   "execution_count": null,
   "metadata": {
    "colab": {
     "base_uri": "https://localhost:8080/",
     "height": 35
    },
    "colab_type": "code",
    "executionInfo": {
     "elapsed": 20337,
     "status": "ok",
     "timestamp": 1573029625659,
     "user": {
      "displayName": "Manuel Sánchez-Montañés",
      "photoUrl": "",
      "userId": "17112108692206476645"
     },
     "user_tz": -60
    },
    "id": "rlkA3Uhi5lZu",
    "outputId": "d8537ff1-55b4-4d46-877d-5a7a277344c3"
   },
   "outputs": [],
   "source": [
    "n_clases = len(np.unique(y))\n",
    "np.unique(y)"
   ]
  },
  {
   "cell_type": "code",
   "execution_count": null,
   "metadata": {
    "colab": {
     "base_uri": "https://localhost:8080/",
     "height": 122
    },
    "colab_type": "code",
    "executionInfo": {
     "elapsed": 20804,
     "status": "ok",
     "timestamp": 1573029626157,
     "user": {
      "displayName": "Manuel Sánchez-Montañés",
      "photoUrl": "",
      "userId": "17112108692206476645"
     },
     "user_tz": -60
    },
    "id": "i4XLhhEG5lZ_",
    "outputId": "d993b23b-0c70-418a-a20d-f9ed48fb9715"
   },
   "outputs": [],
   "source": [
    "from sklearn.model_selection import train_test_split\n",
    "\n",
    "X_train, X_test, y_train, y_test = train_test_split(X, y, test_size=0.25,\n",
    "                                                    random_state=1)\n",
    "\n",
    "print(X_train.shape)\n",
    "print(y_train.shape)\n",
    "print(X_test.shape)\n",
    "print(y_test.shape)\n",
    "\n",
    "X.min(), X.max()"
   ]
  },
  {
   "cell_type": "code",
   "execution_count": null,
   "metadata": {
    "colab": {
     "base_uri": "https://localhost:8080/",
     "height": 1000
    },
    "colab_type": "code",
    "executionInfo": {
     "elapsed": 21668,
     "status": "ok",
     "timestamp": 1573029627031,
     "user": {
      "displayName": "Manuel Sánchez-Montañés",
      "photoUrl": "",
      "userId": "17112108692206476645"
     },
     "user_tz": -60
    },
    "id": "y49O1lHj5laD",
    "outputId": "bc0f2b8b-4564-4e79-c2b1-6bd28bdbfdb1"
   },
   "outputs": [],
   "source": [
    "plt.figure(figsize=(7,7))\n",
    "primero = 5000\n",
    "for i in range(16):\n",
    "    plt.subplot(4,4,i+1)\n",
    "    plt.imshow(X_train[primero+i].reshape(28, 28), cmap=plt.cm.gray)\n",
    "    plt.title(\"y={}\".format(y_train[primero+i]))\n",
    "    plt.xticks([])\n",
    "    plt.yticks([])"
   ]
  },
  {
   "cell_type": "markdown",
   "metadata": {
    "colab_type": "text",
    "id": "ebD8M0fJ5laJ"
   },
   "source": [
    "## 3.2. Construcción de la Red neuronal"
   ]
  },
  {
   "cell_type": "code",
   "execution_count": null,
   "metadata": {
    "colab": {},
    "colab_type": "code",
    "id": "5lPZUg_x2Brd"
   },
   "outputs": [],
   "source": [
    "from sklearn.neural_network import MLPClassifier"
   ]
  },
  {
   "cell_type": "code",
   "execution_count": null,
   "metadata": {
    "colab": {},
    "colab_type": "code",
    "id": "umOAbAZA5laK"
   },
   "outputs": [],
   "source": [
    "# Rellena esta casilla con código para crear y entrenar\n",
    "# un objeto de nombre MLP y clase MLPClassifier. Usa una capa oculta y 50 neuronas. \n",
    "\n",
    "\n"
   ]
  },
  {
   "cell_type": "markdown",
   "metadata": {},
   "source": [
    "Calcula en la siguiente casilla los scores en training y test."
   ]
  },
  {
   "cell_type": "code",
   "execution_count": null,
   "metadata": {},
   "outputs": [],
   "source": []
  },
  {
   "cell_type": "markdown",
   "metadata": {},
   "source": [
    "## 3.3 Búsqueda en rejilla."
   ]
  },
  {
   "cell_type": "markdown",
   "metadata": {},
   "source": [
    "¿Opinas que otra configuración de los hiper-parámetros puede resolver el problema mas eficientemente? Es lo mas probable. Vamos ahora a cambiar el valor de los hiper-parámetros de la red neuronal y a devolver como red definitiva la que minimize la estimación del error de generalización. Para ello hay que hacer dos cosas. La primera, cambiar el modo en el que estimamos el error de generalización. Si basamos nuestro resultado en el error proporcionado por el test, haremos overfitting en el conjunto de test. Por ello debemos cambiar esta estimación. Estimaremos el error de generalización de cada red usando Nested Cross Validation. Por otro lado, haremos una búsqueda en rejilla de los hiper-parámetros óptimos. Devolveremos el valor de los hiper-parámetros que optimize esa estimación del error de la red. Adapta el código que encontrarás en https://scikit-learn.org/stable/auto_examples/model_selection/plot_nested_cross_validation_iris.html al problema MNIST y al espacio de hiper-parámetros de la red neuronal (cambiando el valor de la variable p_grid). Prueba a incluir en la rejilla el número de capas ocultas, el número de neuronas de las capas ocultas (haz que todas tengan el mismo número), la tasa de aprendizaje o la función de activación. Recuerda que en https://scikit-learn.org/stable/modules/generated/sklearn.neural_network.MLPClassifier.html tienes información sobre cada uno de los hiper-parámetros. Eres libre de elegir los valores y los hiper-parámetros que consideres. Antes de configurar la rejilla, lee un poco sobre cada uno de los hiper-parámetros para asegurarte de que tiene sentido tu búsqueda."
   ]
  },
  {
   "cell_type": "code",
   "execution_count": null,
   "metadata": {},
   "outputs": [],
   "source": []
  }
 ],
 "metadata": {
  "colab": {
   "collapsed_sections": [],
   "name": "01-nn_mnist_clasificacion_ML.ipynb",
   "provenance": []
  },
  "kernelspec": {
   "display_name": "Python 3",
   "language": "python",
   "name": "python3"
  },
  "language_info": {
   "codemirror_mode": {
    "name": "ipython",
    "version": 3
   },
   "file_extension": ".py",
   "mimetype": "text/x-python",
   "name": "python",
   "nbconvert_exporter": "python",
   "pygments_lexer": "ipython3",
   "version": "3.8.5"
  }
 },
 "nbformat": 4,
 "nbformat_minor": 1
}
